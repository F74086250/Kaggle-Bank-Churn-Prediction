{
 "cells": [
  {
   "cell_type": "code",
   "execution_count": 1,
   "id": "10f6ce70",
   "metadata": {},
   "outputs": [],
   "source": [
    "import KNN_predict as Knn\n",
    "import SVM_predict as Svm\n",
    "import ExtraDecisionTree_predict as EDT\n",
    "import RandomForest_predict as RF\n",
    "import Bagging_predict as Bg\n",
    "import warnings\n",
    "warnings.filterwarnings(\"ignore\")"
   ]
  },
  {
   "cell_type": "markdown",
   "id": "0a424b1a",
   "metadata": {},
   "source": [
    "Var_name = \"show_all\" 顯示全部 可以調整成單獨顯示Accuracy, Precision,F1score,Score(final) "
   ]
  },
  {
   "cell_type": "markdown",
   "id": "c2919b92",
   "metadata": {},
   "source": [
    "Knn.test()#Var_name Srand(,) Neighbor(,)"
   ]
  },
  {
   "cell_type": "code",
   "execution_count": 2,
   "id": "c6307528",
   "metadata": {},
   "outputs": [
    {
     "name": "stdout",
     "output_type": "stream",
     "text": [
      "Srand =  33 \n",
      "Neighbors =  3 \n",
      "▰▰▰▰▰▰▰▰▰▰▰▰▰▰▰▰▰▰▰▰ \n",
      "Accuracy :  0.83 \n",
      "Precision :  0.4601226993865031 \n",
      "F1score :  0.5244755244755245 \n",
      "Score :  0.5903917370972586\n",
      "\n"
     ]
    }
   ],
   "source": [
    "Knn.test(\"show_all\",33,33,3,3)#Var_name Srand(,) Neighbor(,)"
   ]
  },
  {
   "cell_type": "markdown",
   "id": "ac74fa05",
   "metadata": {},
   "source": [
    "Svm.test()#Var_name Srand(,) Gamma(,)"
   ]
  },
  {
   "cell_type": "code",
   "execution_count": 3,
   "id": "96a37f96",
   "metadata": {},
   "outputs": [
    {
     "name": "stdout",
     "output_type": "stream",
     "text": [
      "Srand =  70 \n",
      "Gamma =  0.233 \n",
      "▰▰▰▰▰▰▰▰▰▰▰▰▰▰▰▰▰▰▰▰ \n",
      "Accuracy :  0.865 \n",
      "Precision :  0.4294478527607362 \n",
      "F1score :  0.5645161290322581 \n",
      "Score :  0.6006339798139719\n",
      "\n"
     ]
    }
   ],
   "source": [
    "Svm.test(\"show_all\",70,70,0.233,0.233)#Var_name Srand(,) Gamma(,)"
   ]
  },
  {
   "cell_type": "markdown",
   "id": "969c7965",
   "metadata": {},
   "source": [
    "EDT.test()#Var_name Srand(,) Tree number(,) Srand2 Split Leaves"
   ]
  },
  {
   "cell_type": "code",
   "execution_count": 4,
   "id": "ed70619c",
   "metadata": {},
   "outputs": [
    {
     "name": "stdout",
     "output_type": "stream",
     "text": [
      "Srand =  33 \n",
      "Trees =  95 \n",
      "Max_depth =  None \n",
      "Min_samples_split =  7 \n",
      "Min_leaf =  2 \n",
      "▰▰▰▰▰▰▰▰▰▰▰▰▰▰▰▰▰▰▰▰ \n",
      "Accuracy :  0.8725 \n",
      "Precision :  0.48466257668711654 \n",
      "F1score :  0.6076923076923075 \n",
      "Score :  0.6379227229825388\n",
      "\n"
     ]
    }
   ],
   "source": [
    "EDT.test(\"show_all\",33,33,95,95)#Var_name Srand(,) Tree number(,) Srand2 Split Leaves"
   ]
  },
  {
   "cell_type": "markdown",
   "id": "886c6b64",
   "metadata": {},
   "source": [
    "RF.test()#Var_name Srand(,) Tree number(,) max_features"
   ]
  },
  {
   "cell_type": "code",
   "execution_count": 5,
   "id": "d62f3acc",
   "metadata": {},
   "outputs": [
    {
     "name": "stdout",
     "output_type": "stream",
     "text": [
      "Srand =  30 \n",
      "Trees =  115 \n",
      "Max_features =  10 \n",
      "▰▰▰▰▰▰▰▰▰▰▰▰▰▰▰▰▰▰▰▰ \n",
      "Accuracy :  0.868125 \n",
      "Precision :  0.5061349693251533 \n",
      "F1score :  0.609981515711645 \n",
      "Score :  0.6458859424435548\n",
      "\n"
     ]
    }
   ],
   "source": [
    "RF.test(\"show_all\",30,30,115,115)#Var_name Srand(,) Tree number(,) max_features"
   ]
  },
  {
   "cell_type": "markdown",
   "id": "9eefd204",
   "metadata": {},
   "source": [
    "Bg.test()#Var_name Srand(,) Algorithm Bag_number(,) Max_samples Max_features"
   ]
  },
  {
   "cell_type": "code",
   "execution_count": 6,
   "id": "7ead5d81",
   "metadata": {},
   "outputs": [
    {
     "name": "stdout",
     "output_type": "stream",
     "text": [
      "Srand =  70 \n",
      "Bag_nums =  82 \n",
      "Max_samples =  0.3 \n",
      "Max_features =  1.0 \n",
      "▰▰▰▰▰▰▰▰▰▰▰▰▰▰▰▰▰▰▰▰ \n",
      "Accuracy :  0.869375 \n",
      "Precision :  0.4938650306748466 \n",
      "F1score :  0.6064030131826742 \n",
      "Score :  0.6402794162247409\n",
      "\n"
     ]
    }
   ],
   "source": [
    "Bg.test(\"show_all\",70,70,82,82)#Var_name Srand(,) Algorithm Bag_number(,) Max_samples Max_features"
   ]
  },
  {
   "cell_type": "markdown",
   "id": "be31ac3c",
   "metadata": {},
   "source": [
    "Knn.self_optimizing() # 33 3"
   ]
  },
  {
   "cell_type": "markdown",
   "id": "7d00df50",
   "metadata": {},
   "source": [
    "Svm.self_optimizing() # 70 0.233"
   ]
  },
  {
   "cell_type": "markdown",
   "id": "f45eefcb",
   "metadata": {},
   "source": [
    "EDT.self_optimizing(20,70,35,100) # 33 95"
   ]
  },
  {
   "cell_type": "markdown",
   "id": "dfb25117",
   "metadata": {},
   "source": [
    "RF.self_optimizing(25,50,110,150) # 30 115"
   ]
  },
  {
   "cell_type": "markdown",
   "id": "b5263b07",
   "metadata": {},
   "source": [
    "Bg.self_optimizing(70,70,10,125) # 70 82"
   ]
  },
  {
   "cell_type": "markdown",
   "id": "3a647629",
   "metadata": {},
   "source": [
    "Knn.test()#Var_name Srand(,) Neighbor(,)"
   ]
  },
  {
   "cell_type": "markdown",
   "id": "292d4e0b",
   "metadata": {},
   "source": [
    "Svm.test()#Var_name Srand(,) Gamma(,)"
   ]
  },
  {
   "cell_type": "markdown",
   "id": "47b04369",
   "metadata": {},
   "source": [
    "EDT.test()#Var_name Srand(,) Tree number(,) Srand2 Split Leaves"
   ]
  },
  {
   "cell_type": "markdown",
   "id": "1134e492",
   "metadata": {},
   "source": [
    "RF.test()#Var_name Srand(,) Tree number(,) max_features"
   ]
  },
  {
   "cell_type": "markdown",
   "id": "44c9fdf3",
   "metadata": {},
   "source": [
    "Bg.test()#Var_name Srand(,) Algorithm Bag_number(,) Max_samples Max_features"
   ]
  }
 ],
 "metadata": {
  "kernelspec": {
   "display_name": "Python 3",
   "language": "python",
   "name": "python3"
  },
  "language_info": {
   "codemirror_mode": {
    "name": "ipython",
    "version": 3
   },
   "file_extension": ".py",
   "mimetype": "text/x-python",
   "name": "python",
   "nbconvert_exporter": "python",
   "pygments_lexer": "ipython3",
   "version": "3.9.1"
  }
 },
 "nbformat": 4,
 "nbformat_minor": 5
}
