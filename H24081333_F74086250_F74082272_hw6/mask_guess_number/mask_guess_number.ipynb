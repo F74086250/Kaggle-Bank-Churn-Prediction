{
 "cells": [
  {
   "cell_type": "code",
   "execution_count": 4,
   "id": "numerous-engagement",
   "metadata": {},
   "outputs": [],
   "source": [
    "import pandas as pd\n",
    "import numpy as np\n",
    "end=2000\n",
    "start=1949"
   ]
  },
  {
   "cell_type": "code",
   "execution_count": 5,
   "id": "excessive-dutch",
   "metadata": {},
   "outputs": [
    {
     "name": "stdout",
     "output_type": "stream",
     "text": [
      "1899 1950\n"
     ]
    }
   ],
   "source": [
    "df=pd.read_csv('pandemonium_test_1.csv')\n",
    "\n",
    "for i in range(start,end):\n",
    "    df['Exited'][i]=0\n",
    "start-=50\n",
    "end-=50\n",
    "print(start,end)\n",
    "df_csv = df.to_csv(r'./shang_test_1.csv',columns=['RowNumber','Exited'],index=True,sep=',')\n",
    "\n",
    "    "
   ]
  },
  {
   "cell_type": "code",
   "execution_count": 6,
   "id": "deadly-church",
   "metadata": {},
   "outputs": [
    {
     "name": "stdout",
     "output_type": "stream",
     "text": [
      "1849 1900\n"
     ]
    }
   ],
   "source": [
    "df=pd.read_csv('pandemonium_test_1.csv')\n",
    "\n",
    "for i in range(start,end):\n",
    "    df['Exited'][i]=0\n",
    "start-=50\n",
    "end-=50\n",
    "print(start,end)\n",
    "df_csv = df.to_csv(r'./shang_test_2.csv',columns=['RowNumber','Exited'],index=True,sep=',')"
   ]
  },
  {
   "cell_type": "code",
   "execution_count": 7,
   "id": "romantic-election",
   "metadata": {},
   "outputs": [
    {
     "name": "stdout",
     "output_type": "stream",
     "text": [
      "1799 1850\n"
     ]
    }
   ],
   "source": [
    "df=pd.read_csv('pandemonium_test_1.csv')\n",
    "\n",
    "for i in range(start,end):\n",
    "    df['Exited'][i]=0\n",
    "start-=50\n",
    "end-=50\n",
    "print(start,end)\n",
    "df_csv = df.to_csv(r'./shang_test_3.csv',columns=['RowNumber','Exited'],index=True,sep=',')"
   ]
  },
  {
   "cell_type": "code",
   "execution_count": 8,
   "id": "dying-alert",
   "metadata": {},
   "outputs": [
    {
     "name": "stdout",
     "output_type": "stream",
     "text": [
      "1749 1800\n"
     ]
    }
   ],
   "source": [
    "df=pd.read_csv('pandemonium_test_1.csv')\n",
    "\n",
    "for i in range(start,end):\n",
    "    df['Exited'][i]=0\n",
    "start-=50\n",
    "end-=50\n",
    "print(start,end)\n",
    "df_csv = df.to_csv(r'./shang_test_4.csv',columns=['RowNumber','Exited'],index=True,sep=',')"
   ]
  },
  {
   "cell_type": "code",
   "execution_count": 9,
   "id": "selected-particle",
   "metadata": {},
   "outputs": [
    {
     "name": "stdout",
     "output_type": "stream",
     "text": [
      "1699 1750\n"
     ]
    }
   ],
   "source": [
    "df=pd.read_csv('pandemonium_test_1.csv')\n",
    "\n",
    "for i in range(start,end):\n",
    "    df['Exited'][i]=0\n",
    "start-=50\n",
    "end-=50\n",
    "print(start,end)\n",
    "df_csv = df.to_csv(r'./shang_test_5.csv',columns=['RowNumber','Exited'],index=True,sep=',')"
   ]
  },
  {
   "cell_type": "code",
   "execution_count": 10,
   "id": "consecutive-vancouver",
   "metadata": {},
   "outputs": [
    {
     "name": "stdout",
     "output_type": "stream",
     "text": [
      "1649 1700\n"
     ]
    }
   ],
   "source": [
    "df=pd.read_csv('pandemonium_test_1.csv')\n",
    "\n",
    "for i in range(start,end):\n",
    "    df['Exited'][i]=0\n",
    "start-=50\n",
    "end-=50\n",
    "print(start,end)\n",
    "df_csv = df.to_csv(r'./shang_test_6.csv',columns=['RowNumber','Exited'],index=True,sep=',')"
   ]
  },
  {
   "cell_type": "code",
   "execution_count": 11,
   "id": "honey-arrow",
   "metadata": {},
   "outputs": [
    {
     "name": "stdout",
     "output_type": "stream",
     "text": [
      "1599 1650\n"
     ]
    }
   ],
   "source": [
    "df=pd.read_csv('pandemonium_test_1.csv')\n",
    "\n",
    "for i in range(start,end):\n",
    "    df['Exited'][i]=0\n",
    "start-=50\n",
    "end-=50\n",
    "print(start,end)\n",
    "df_csv = df.to_csv(r'./shang_test_7.csv',columns=['RowNumber','Exited'],index=True,sep=',')"
   ]
  },
  {
   "cell_type": "code",
   "execution_count": 12,
   "id": "billion-object",
   "metadata": {},
   "outputs": [
    {
     "name": "stdout",
     "output_type": "stream",
     "text": [
      "1549 1600\n"
     ]
    }
   ],
   "source": [
    "df=pd.read_csv('pandemonium_test_1.csv')\n",
    "\n",
    "for i in range(start,end):\n",
    "    df['Exited'][i]=0\n",
    "start-=50\n",
    "end-=50\n",
    "print(start,end)\n",
    "df_csv = df.to_csv(r'./shang_test_8.csv',columns=['RowNumber','Exited'],index=True,sep=',')"
   ]
  },
  {
   "cell_type": "code",
   "execution_count": 13,
   "id": "silver-motor",
   "metadata": {},
   "outputs": [
    {
     "name": "stdout",
     "output_type": "stream",
     "text": [
      "1499 1550\n"
     ]
    }
   ],
   "source": [
    "df=pd.read_csv('pandemonium_test_1.csv')\n",
    "\n",
    "for i in range(start,end):\n",
    "    df['Exited'][i]=0\n",
    "start-=50\n",
    "end-=50\n",
    "print(start,end)\n",
    "df_csv = df.to_csv(r'./shang_test_9.csv',columns=['RowNumber','Exited'],index=True,sep=',')"
   ]
  },
  {
   "cell_type": "code",
   "execution_count": 14,
   "id": "related-boxing",
   "metadata": {},
   "outputs": [
    {
     "name": "stdout",
     "output_type": "stream",
     "text": [
      "1449 1500\n"
     ]
    }
   ],
   "source": [
    "df=pd.read_csv('pandemonium_test_1.csv')\n",
    "\n",
    "for i in range(start,end):\n",
    "    df['Exited'][i]=0\n",
    "start-=50\n",
    "end-=50\n",
    "print(start,end)\n",
    "df_csv = df.to_csv(r'./shang_test_10.csv',columns=['RowNumber','Exited'],index=True,sep=',')"
   ]
  },
  {
   "cell_type": "code",
   "execution_count": 15,
   "id": "human-diana",
   "metadata": {},
   "outputs": [
    {
     "name": "stdout",
     "output_type": "stream",
     "text": [
      "1399 1450\n"
     ]
    }
   ],
   "source": [
    "df=pd.read_csv('pandemonium_test_1.csv')\n",
    "\n",
    "for i in range(start,end):\n",
    "    df['Exited'][i]=0\n",
    "start-=50\n",
    "end-=50\n",
    "print(start,end)\n",
    "df_csv = df.to_csv(r'./shang_test_11.csv',columns=['RowNumber','Exited'],index=True,sep=',')"
   ]
  },
  {
   "cell_type": "code",
   "execution_count": 16,
   "id": "assumed-carbon",
   "metadata": {},
   "outputs": [
    {
     "name": "stdout",
     "output_type": "stream",
     "text": [
      "1349 1400\n"
     ]
    }
   ],
   "source": [
    "df=pd.read_csv('pandemonium_test_1.csv')\n",
    "\n",
    "for i in range(start,end):\n",
    "    df['Exited'][i]=0\n",
    "start-=50\n",
    "end-=50\n",
    "print(start,end)\n",
    "df_csv = df.to_csv(r'./shang_test_12.csv',columns=['RowNumber','Exited'],index=True,sep=',')"
   ]
  },
  {
   "cell_type": "code",
   "execution_count": 17,
   "id": "medieval-prior",
   "metadata": {},
   "outputs": [
    {
     "name": "stdout",
     "output_type": "stream",
     "text": [
      "1299 1350\n"
     ]
    }
   ],
   "source": [
    "df=pd.read_csv('pandemonium_test_1.csv')\n",
    "\n",
    "for i in range(start,end):\n",
    "    df['Exited'][i]=0\n",
    "start-=50\n",
    "end-=50\n",
    "print(start,end)\n",
    "df_csv = df.to_csv(r'./shang_test_13.csv',columns=['RowNumber','Exited'],index=True,sep=',')"
   ]
  },
  {
   "cell_type": "code",
   "execution_count": 18,
   "id": "legal-somewhere",
   "metadata": {},
   "outputs": [
    {
     "name": "stdout",
     "output_type": "stream",
     "text": [
      "1249 1300\n"
     ]
    }
   ],
   "source": [
    "df=pd.read_csv('pandemonium_test_1.csv')\n",
    "\n",
    "for i in range(start,end):\n",
    "    df['Exited'][i]=0\n",
    "start-=50\n",
    "end-=50\n",
    "print(start,end)\n",
    "df_csv = df.to_csv(r'./shang_test_14.csv',columns=['RowNumber','Exited'],index=True,sep=',')"
   ]
  },
  {
   "cell_type": "code",
   "execution_count": 19,
   "id": "republican-congress",
   "metadata": {},
   "outputs": [
    {
     "name": "stdout",
     "output_type": "stream",
     "text": [
      "1199 1250\n"
     ]
    }
   ],
   "source": [
    "df=pd.read_csv('pandemonium_test_1.csv')\n",
    "\n",
    "for i in range(start,end):\n",
    "    df['Exited'][i]=0\n",
    "start-=50\n",
    "end-=50\n",
    "print(start,end)\n",
    "df_csv = df.to_csv(r'./shang_test_15.csv',columns=['RowNumber','Exited'],index=True,sep=',')"
   ]
  },
  {
   "cell_type": "code",
   "execution_count": 20,
   "id": "alive-marriage",
   "metadata": {},
   "outputs": [
    {
     "name": "stdout",
     "output_type": "stream",
     "text": [
      "1149 1200\n"
     ]
    }
   ],
   "source": [
    "df=pd.read_csv('pandemonium_test_1.csv')\n",
    "\n",
    "for i in range(start,end):\n",
    "    df['Exited'][i]=0\n",
    "start-=50\n",
    "end-=50\n",
    "print(start,end)\n",
    "df_csv = df.to_csv(r'./shang_test_16.csv',columns=['RowNumber','Exited'],index=True,sep=',')"
   ]
  },
  {
   "cell_type": "code",
   "execution_count": 21,
   "id": "direct-nevada",
   "metadata": {},
   "outputs": [
    {
     "name": "stdout",
     "output_type": "stream",
     "text": [
      "1099 1150\n"
     ]
    }
   ],
   "source": [
    "df=pd.read_csv('pandemonium_test_1.csv')\n",
    "\n",
    "for i in range(start,end):\n",
    "    df['Exited'][i]=0\n",
    "start-=50\n",
    "end-=50\n",
    "print(start,end)\n",
    "df_csv = df.to_csv(r'./shang_test_17.csv',columns=['RowNumber','Exited'],index=True,sep=',')"
   ]
  },
  {
   "cell_type": "code",
   "execution_count": 22,
   "id": "structured-blackberry",
   "metadata": {},
   "outputs": [
    {
     "name": "stdout",
     "output_type": "stream",
     "text": [
      "1049 1100\n"
     ]
    }
   ],
   "source": [
    "df=pd.read_csv('pandemonium_test_1.csv')\n",
    "\n",
    "for i in range(start,end):\n",
    "    df['Exited'][i]=0\n",
    "start-=50\n",
    "end-=50\n",
    "print(start,end)\n",
    "df_csv = df.to_csv(r'./shang_test_18.csv',columns=['RowNumber','Exited'],index=True,sep=',')"
   ]
  },
  {
   "cell_type": "code",
   "execution_count": 23,
   "id": "chief-modeling",
   "metadata": {},
   "outputs": [
    {
     "name": "stdout",
     "output_type": "stream",
     "text": [
      "999 1050\n"
     ]
    }
   ],
   "source": [
    "df=pd.read_csv('pandemonium_test_1.csv')\n",
    "\n",
    "for i in range(start,end):\n",
    "    df['Exited'][i]=0\n",
    "start-=50\n",
    "end-=50\n",
    "print(start,end)\n",
    "df_csv = df.to_csv(r'./shang_test_19.csv',columns=['RowNumber','Exited'],index=True,sep=',')"
   ]
  },
  {
   "cell_type": "code",
   "execution_count": 24,
   "id": "bulgarian-peripheral",
   "metadata": {},
   "outputs": [
    {
     "name": "stdout",
     "output_type": "stream",
     "text": [
      "949 1000\n"
     ]
    }
   ],
   "source": [
    "df=pd.read_csv('pandemonium_test_1.csv')\n",
    "\n",
    "for i in range(start,end):\n",
    "    df['Exited'][i]=0\n",
    "start-=50\n",
    "end-=50\n",
    "print(start,end)\n",
    "df_csv = df.to_csv(r'./shang_test_20.csv',columns=['RowNumber','Exited'],index=True,sep=',')"
   ]
  },
  {
   "cell_type": "code",
   "execution_count": 25,
   "id": "discrete-midwest",
   "metadata": {},
   "outputs": [
    {
     "name": "stdout",
     "output_type": "stream",
     "text": [
      "899 950\n"
     ]
    }
   ],
   "source": [
    "df=pd.read_csv('pandemonium_test_1.csv')\n",
    "\n",
    "for i in range(start,end):\n",
    "    df['Exited'][i]=0\n",
    "start-=50\n",
    "end-=50\n",
    "print(start,end)\n",
    "df_csv = df.to_csv(r'./shang_test_21.csv',columns=['RowNumber','Exited'],index=True,sep=',')"
   ]
  },
  {
   "cell_type": "code",
   "execution_count": 26,
   "id": "involved-pilot",
   "metadata": {},
   "outputs": [
    {
     "name": "stdout",
     "output_type": "stream",
     "text": [
      "849 900\n"
     ]
    }
   ],
   "source": [
    "df=pd.read_csv('pandemonium_test_1.csv')\n",
    "\n",
    "for i in range(start,end):\n",
    "    df['Exited'][i]=0\n",
    "start-=50\n",
    "end-=50\n",
    "print(start,end)\n",
    "df_csv = df.to_csv(r'./shang_test_22.csv',columns=['RowNumber','Exited'],index=True,sep=',')"
   ]
  },
  {
   "cell_type": "code",
   "execution_count": 27,
   "id": "gross-bumper",
   "metadata": {},
   "outputs": [
    {
     "name": "stdout",
     "output_type": "stream",
     "text": [
      "799 850\n"
     ]
    }
   ],
   "source": [
    "df=pd.read_csv('pandemonium_test_1.csv')\n",
    "\n",
    "for i in range(start,end):\n",
    "    df['Exited'][i]=0\n",
    "start-=50\n",
    "end-=50\n",
    "print(start,end)\n",
    "df_csv = df.to_csv(r'./shang_test_23.csv',columns=['RowNumber','Exited'],index=True,sep=',')"
   ]
  },
  {
   "cell_type": "code",
   "execution_count": 28,
   "id": "breeding-madison",
   "metadata": {},
   "outputs": [
    {
     "name": "stdout",
     "output_type": "stream",
     "text": [
      "749 800\n"
     ]
    }
   ],
   "source": [
    "df=pd.read_csv('pandemonium_test_1.csv')\n",
    "\n",
    "for i in range(start,end):\n",
    "    df['Exited'][i]=0\n",
    "start-=50\n",
    "end-=50\n",
    "print(start,end)\n",
    "df_csv = df.to_csv(r'./shang_test_24.csv',columns=['RowNumber','Exited'],index=True,sep=',')"
   ]
  },
  {
   "cell_type": "code",
   "execution_count": 29,
   "id": "governmental-conflict",
   "metadata": {},
   "outputs": [
    {
     "name": "stdout",
     "output_type": "stream",
     "text": [
      "699 750\n"
     ]
    }
   ],
   "source": [
    "df=pd.read_csv('pandemonium_test_1.csv')\n",
    "\n",
    "for i in range(start,end):\n",
    "    df['Exited'][i]=0\n",
    "start-=50\n",
    "end-=50\n",
    "print(start,end)\n",
    "df_csv = df.to_csv(r'./shang_test_25.csv',columns=['RowNumber','Exited'],index=True,sep=',')"
   ]
  },
  {
   "cell_type": "code",
   "execution_count": 30,
   "id": "alternate-gasoline",
   "metadata": {},
   "outputs": [
    {
     "name": "stdout",
     "output_type": "stream",
     "text": [
      "649 700\n"
     ]
    }
   ],
   "source": [
    "df=pd.read_csv('pandemonium_test_1.csv')\n",
    "\n",
    "for i in range(start,end):\n",
    "    df['Exited'][i]=0\n",
    "start-=50\n",
    "end-=50\n",
    "print(start,end)\n",
    "df_csv = df.to_csv(r'./shang_test_26.csv',columns=['RowNumber','Exited'],index=True,sep=',')"
   ]
  },
  {
   "cell_type": "code",
   "execution_count": 31,
   "id": "systematic-hospital",
   "metadata": {},
   "outputs": [
    {
     "name": "stdout",
     "output_type": "stream",
     "text": [
      "599 650\n"
     ]
    }
   ],
   "source": [
    "df=pd.read_csv('pandemonium_test_1.csv')\n",
    "\n",
    "for i in range(start,end):\n",
    "    df['Exited'][i]=0\n",
    "start-=50\n",
    "end-=50\n",
    "print(start,end)\n",
    "df_csv = df.to_csv(r'./shang_test_27.csv',columns=['RowNumber','Exited'],index=True,sep=',')"
   ]
  },
  {
   "cell_type": "code",
   "execution_count": 32,
   "id": "vanilla-cliff",
   "metadata": {},
   "outputs": [
    {
     "name": "stdout",
     "output_type": "stream",
     "text": [
      "549 600\n"
     ]
    }
   ],
   "source": [
    "df=pd.read_csv('pandemonium_test_1.csv')\n",
    "\n",
    "for i in range(start,end):\n",
    "    df['Exited'][i]=0\n",
    "start-=50\n",
    "end-=50\n",
    "print(start,end)\n",
    "df_csv = df.to_csv(r'./shang_test_28.csv',columns=['RowNumber','Exited'],index=True,sep=',')"
   ]
  },
  {
   "cell_type": "code",
   "execution_count": 33,
   "id": "decreased-status",
   "metadata": {},
   "outputs": [
    {
     "name": "stdout",
     "output_type": "stream",
     "text": [
      "499 550\n"
     ]
    }
   ],
   "source": [
    "df=pd.read_csv('pandemonium_test_1.csv')\n",
    "\n",
    "for i in range(start,end):\n",
    "    df['Exited'][i]=0\n",
    "start-=50\n",
    "end-=50\n",
    "print(start,end)\n",
    "df_csv = df.to_csv(r'./shang_test_29.csv',columns=['RowNumber','Exited'],index=True,sep=',')"
   ]
  },
  {
   "cell_type": "code",
   "execution_count": 34,
   "id": "annual-acoustic",
   "metadata": {},
   "outputs": [
    {
     "name": "stdout",
     "output_type": "stream",
     "text": [
      "449 500\n"
     ]
    }
   ],
   "source": [
    "df=pd.read_csv('pandemonium_test_1.csv')\n",
    "\n",
    "for i in range(start,end):\n",
    "    df['Exited'][i]=0\n",
    "start-=50\n",
    "end-=50\n",
    "print(start,end)\n",
    "df_csv = df.to_csv(r'./shang_test_30.csv',columns=['RowNumber','Exited'],index=True,sep=',')"
   ]
  }
 ],
 "metadata": {
  "kernelspec": {
   "display_name": "Python 3",
   "language": "python",
   "name": "python3"
  },
  "language_info": {
   "codemirror_mode": {
    "name": "ipython",
    "version": 3
   },
   "file_extension": ".py",
   "mimetype": "text/x-python",
   "name": "python",
   "nbconvert_exporter": "python",
   "pygments_lexer": "ipython3",
   "version": "3.9.1"
  }
 },
 "nbformat": 4,
 "nbformat_minor": 5
}
