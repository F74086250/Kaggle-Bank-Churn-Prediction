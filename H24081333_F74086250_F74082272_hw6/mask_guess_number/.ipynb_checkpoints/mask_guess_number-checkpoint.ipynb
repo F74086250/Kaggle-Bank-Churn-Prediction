{
 "cells": [
  {
   "cell_type": "code",
   "execution_count": 1,
   "id": "numerous-engagement",
   "metadata": {},
   "outputs": [],
   "source": [
    "import pandas as pd\n",
    "import numpy as np\n",
    "end=2000\n",
    "start=1949"
   ]
  },
  {
   "cell_type": "code",
   "execution_count": 2,
   "id": "excessive-dutch",
   "metadata": {},
   "outputs": [
    {
     "name": "stdout",
     "output_type": "stream",
     "text": [
      "1899 1950\n"
     ]
    }
   ],
   "source": [
    "df=pd.read_csv('pandemonium_test_1.csv')\n",
    "\n",
    "for i in range(start,end):\n",
    "    df['Exited'][i]=0\n",
    "start-=50\n",
    "end-=50\n",
    "print(start,end)\n",
    "df_csv = df.to_csv(r'./shang_test_1.csv',columns=['RowNumber','Exited'],index=True,sep=',')\n",
    "\n",
    "    "
   ]
  },
  {
   "cell_type": "code",
   "execution_count": 3,
   "id": "deadly-church",
   "metadata": {},
   "outputs": [
    {
     "ename": "FileNotFoundError",
     "evalue": "[Errno 2] No such file or directory: 'pandemonium_test_1.csv'",
     "output_type": "error",
     "traceback": [
      "\u001b[1;31m---------------------------------------------------------------------------\u001b[0m",
      "\u001b[1;31mFileNotFoundError\u001b[0m                         Traceback (most recent call last)",
      "\u001b[1;32m<ipython-input-3-841e05315b48>\u001b[0m in \u001b[0;36m<module>\u001b[1;34m\u001b[0m\n\u001b[1;32m----> 1\u001b[1;33m \u001b[0mdf\u001b[0m\u001b[1;33m=\u001b[0m\u001b[0mpd\u001b[0m\u001b[1;33m.\u001b[0m\u001b[0mread_csv\u001b[0m\u001b[1;33m(\u001b[0m\u001b[1;34m'pandemonium_test_1.csv'\u001b[0m\u001b[1;33m)\u001b[0m\u001b[1;33m\u001b[0m\u001b[1;33m\u001b[0m\u001b[0m\n\u001b[0m\u001b[0;32m      2\u001b[0m \u001b[1;33m\u001b[0m\u001b[0m\n\u001b[0;32m      3\u001b[0m \u001b[1;32mfor\u001b[0m \u001b[0mi\u001b[0m \u001b[1;32min\u001b[0m \u001b[0mrange\u001b[0m\u001b[1;33m(\u001b[0m\u001b[0mstart\u001b[0m\u001b[1;33m,\u001b[0m\u001b[0mend\u001b[0m\u001b[1;33m)\u001b[0m\u001b[1;33m:\u001b[0m\u001b[1;33m\u001b[0m\u001b[1;33m\u001b[0m\u001b[0m\n\u001b[0;32m      4\u001b[0m     \u001b[0mdf\u001b[0m\u001b[1;33m[\u001b[0m\u001b[1;34m'Exited'\u001b[0m\u001b[1;33m]\u001b[0m\u001b[1;33m[\u001b[0m\u001b[0mi\u001b[0m\u001b[1;33m]\u001b[0m\u001b[1;33m=\u001b[0m\u001b[1;36m0\u001b[0m\u001b[1;33m\u001b[0m\u001b[1;33m\u001b[0m\u001b[0m\n\u001b[0;32m      5\u001b[0m \u001b[0mstart\u001b[0m\u001b[1;33m-=\u001b[0m\u001b[1;36m50\u001b[0m\u001b[1;33m\u001b[0m\u001b[1;33m\u001b[0m\u001b[0m\n",
      "\u001b[1;32mc:\\users\\f74086250\\appdata\\local\\programs\\python\\python39\\lib\\site-packages\\pandas\\io\\parsers.py\u001b[0m in \u001b[0;36mread_csv\u001b[1;34m(filepath_or_buffer, sep, delimiter, header, names, index_col, usecols, squeeze, prefix, mangle_dupe_cols, dtype, engine, converters, true_values, false_values, skipinitialspace, skiprows, skipfooter, nrows, na_values, keep_default_na, na_filter, verbose, skip_blank_lines, parse_dates, infer_datetime_format, keep_date_col, date_parser, dayfirst, cache_dates, iterator, chunksize, compression, thousands, decimal, lineterminator, quotechar, quoting, doublequote, escapechar, comment, encoding, dialect, error_bad_lines, warn_bad_lines, delim_whitespace, low_memory, memory_map, float_precision)\u001b[0m\n\u001b[0;32m    686\u001b[0m     )\n\u001b[0;32m    687\u001b[0m \u001b[1;33m\u001b[0m\u001b[0m\n\u001b[1;32m--> 688\u001b[1;33m     \u001b[1;32mreturn\u001b[0m \u001b[0m_read\u001b[0m\u001b[1;33m(\u001b[0m\u001b[0mfilepath_or_buffer\u001b[0m\u001b[1;33m,\u001b[0m \u001b[0mkwds\u001b[0m\u001b[1;33m)\u001b[0m\u001b[1;33m\u001b[0m\u001b[1;33m\u001b[0m\u001b[0m\n\u001b[0m\u001b[0;32m    689\u001b[0m \u001b[1;33m\u001b[0m\u001b[0m\n\u001b[0;32m    690\u001b[0m \u001b[1;33m\u001b[0m\u001b[0m\n",
      "\u001b[1;32mc:\\users\\f74086250\\appdata\\local\\programs\\python\\python39\\lib\\site-packages\\pandas\\io\\parsers.py\u001b[0m in \u001b[0;36m_read\u001b[1;34m(filepath_or_buffer, kwds)\u001b[0m\n\u001b[0;32m    452\u001b[0m \u001b[1;33m\u001b[0m\u001b[0m\n\u001b[0;32m    453\u001b[0m     \u001b[1;31m# Create the parser.\u001b[0m\u001b[1;33m\u001b[0m\u001b[1;33m\u001b[0m\u001b[1;33m\u001b[0m\u001b[0m\n\u001b[1;32m--> 454\u001b[1;33m     \u001b[0mparser\u001b[0m \u001b[1;33m=\u001b[0m \u001b[0mTextFileReader\u001b[0m\u001b[1;33m(\u001b[0m\u001b[0mfp_or_buf\u001b[0m\u001b[1;33m,\u001b[0m \u001b[1;33m**\u001b[0m\u001b[0mkwds\u001b[0m\u001b[1;33m)\u001b[0m\u001b[1;33m\u001b[0m\u001b[1;33m\u001b[0m\u001b[0m\n\u001b[0m\u001b[0;32m    455\u001b[0m \u001b[1;33m\u001b[0m\u001b[0m\n\u001b[0;32m    456\u001b[0m     \u001b[1;32mif\u001b[0m \u001b[0mchunksize\u001b[0m \u001b[1;32mor\u001b[0m \u001b[0miterator\u001b[0m\u001b[1;33m:\u001b[0m\u001b[1;33m\u001b[0m\u001b[1;33m\u001b[0m\u001b[0m\n",
      "\u001b[1;32mc:\\users\\f74086250\\appdata\\local\\programs\\python\\python39\\lib\\site-packages\\pandas\\io\\parsers.py\u001b[0m in \u001b[0;36m__init__\u001b[1;34m(self, f, engine, **kwds)\u001b[0m\n\u001b[0;32m    946\u001b[0m             \u001b[0mself\u001b[0m\u001b[1;33m.\u001b[0m\u001b[0moptions\u001b[0m\u001b[1;33m[\u001b[0m\u001b[1;34m\"has_index_names\"\u001b[0m\u001b[1;33m]\u001b[0m \u001b[1;33m=\u001b[0m \u001b[0mkwds\u001b[0m\u001b[1;33m[\u001b[0m\u001b[1;34m\"has_index_names\"\u001b[0m\u001b[1;33m]\u001b[0m\u001b[1;33m\u001b[0m\u001b[1;33m\u001b[0m\u001b[0m\n\u001b[0;32m    947\u001b[0m \u001b[1;33m\u001b[0m\u001b[0m\n\u001b[1;32m--> 948\u001b[1;33m         \u001b[0mself\u001b[0m\u001b[1;33m.\u001b[0m\u001b[0m_make_engine\u001b[0m\u001b[1;33m(\u001b[0m\u001b[0mself\u001b[0m\u001b[1;33m.\u001b[0m\u001b[0mengine\u001b[0m\u001b[1;33m)\u001b[0m\u001b[1;33m\u001b[0m\u001b[1;33m\u001b[0m\u001b[0m\n\u001b[0m\u001b[0;32m    949\u001b[0m \u001b[1;33m\u001b[0m\u001b[0m\n\u001b[0;32m    950\u001b[0m     \u001b[1;32mdef\u001b[0m \u001b[0mclose\u001b[0m\u001b[1;33m(\u001b[0m\u001b[0mself\u001b[0m\u001b[1;33m)\u001b[0m\u001b[1;33m:\u001b[0m\u001b[1;33m\u001b[0m\u001b[1;33m\u001b[0m\u001b[0m\n",
      "\u001b[1;32mc:\\users\\f74086250\\appdata\\local\\programs\\python\\python39\\lib\\site-packages\\pandas\\io\\parsers.py\u001b[0m in \u001b[0;36m_make_engine\u001b[1;34m(self, engine)\u001b[0m\n\u001b[0;32m   1178\u001b[0m     \u001b[1;32mdef\u001b[0m \u001b[0m_make_engine\u001b[0m\u001b[1;33m(\u001b[0m\u001b[0mself\u001b[0m\u001b[1;33m,\u001b[0m \u001b[0mengine\u001b[0m\u001b[1;33m=\u001b[0m\u001b[1;34m\"c\"\u001b[0m\u001b[1;33m)\u001b[0m\u001b[1;33m:\u001b[0m\u001b[1;33m\u001b[0m\u001b[1;33m\u001b[0m\u001b[0m\n\u001b[0;32m   1179\u001b[0m         \u001b[1;32mif\u001b[0m \u001b[0mengine\u001b[0m \u001b[1;33m==\u001b[0m \u001b[1;34m\"c\"\u001b[0m\u001b[1;33m:\u001b[0m\u001b[1;33m\u001b[0m\u001b[1;33m\u001b[0m\u001b[0m\n\u001b[1;32m-> 1180\u001b[1;33m             \u001b[0mself\u001b[0m\u001b[1;33m.\u001b[0m\u001b[0m_engine\u001b[0m \u001b[1;33m=\u001b[0m \u001b[0mCParserWrapper\u001b[0m\u001b[1;33m(\u001b[0m\u001b[0mself\u001b[0m\u001b[1;33m.\u001b[0m\u001b[0mf\u001b[0m\u001b[1;33m,\u001b[0m \u001b[1;33m**\u001b[0m\u001b[0mself\u001b[0m\u001b[1;33m.\u001b[0m\u001b[0moptions\u001b[0m\u001b[1;33m)\u001b[0m\u001b[1;33m\u001b[0m\u001b[1;33m\u001b[0m\u001b[0m\n\u001b[0m\u001b[0;32m   1181\u001b[0m         \u001b[1;32melse\u001b[0m\u001b[1;33m:\u001b[0m\u001b[1;33m\u001b[0m\u001b[1;33m\u001b[0m\u001b[0m\n\u001b[0;32m   1182\u001b[0m             \u001b[1;32mif\u001b[0m \u001b[0mengine\u001b[0m \u001b[1;33m==\u001b[0m \u001b[1;34m\"python\"\u001b[0m\u001b[1;33m:\u001b[0m\u001b[1;33m\u001b[0m\u001b[1;33m\u001b[0m\u001b[0m\n",
      "\u001b[1;32mc:\\users\\f74086250\\appdata\\local\\programs\\python\\python39\\lib\\site-packages\\pandas\\io\\parsers.py\u001b[0m in \u001b[0;36m__init__\u001b[1;34m(self, src, **kwds)\u001b[0m\n\u001b[0;32m   2008\u001b[0m         \u001b[0mkwds\u001b[0m\u001b[1;33m[\u001b[0m\u001b[1;34m\"usecols\"\u001b[0m\u001b[1;33m]\u001b[0m \u001b[1;33m=\u001b[0m \u001b[0mself\u001b[0m\u001b[1;33m.\u001b[0m\u001b[0musecols\u001b[0m\u001b[1;33m\u001b[0m\u001b[1;33m\u001b[0m\u001b[0m\n\u001b[0;32m   2009\u001b[0m \u001b[1;33m\u001b[0m\u001b[0m\n\u001b[1;32m-> 2010\u001b[1;33m         \u001b[0mself\u001b[0m\u001b[1;33m.\u001b[0m\u001b[0m_reader\u001b[0m \u001b[1;33m=\u001b[0m \u001b[0mparsers\u001b[0m\u001b[1;33m.\u001b[0m\u001b[0mTextReader\u001b[0m\u001b[1;33m(\u001b[0m\u001b[0msrc\u001b[0m\u001b[1;33m,\u001b[0m \u001b[1;33m**\u001b[0m\u001b[0mkwds\u001b[0m\u001b[1;33m)\u001b[0m\u001b[1;33m\u001b[0m\u001b[1;33m\u001b[0m\u001b[0m\n\u001b[0m\u001b[0;32m   2011\u001b[0m         \u001b[0mself\u001b[0m\u001b[1;33m.\u001b[0m\u001b[0munnamed_cols\u001b[0m \u001b[1;33m=\u001b[0m \u001b[0mself\u001b[0m\u001b[1;33m.\u001b[0m\u001b[0m_reader\u001b[0m\u001b[1;33m.\u001b[0m\u001b[0munnamed_cols\u001b[0m\u001b[1;33m\u001b[0m\u001b[1;33m\u001b[0m\u001b[0m\n\u001b[0;32m   2012\u001b[0m \u001b[1;33m\u001b[0m\u001b[0m\n",
      "\u001b[1;32mpandas\\_libs\\parsers.pyx\u001b[0m in \u001b[0;36mpandas._libs.parsers.TextReader.__cinit__\u001b[1;34m()\u001b[0m\n",
      "\u001b[1;32mpandas\\_libs\\parsers.pyx\u001b[0m in \u001b[0;36mpandas._libs.parsers.TextReader._setup_parser_source\u001b[1;34m()\u001b[0m\n",
      "\u001b[1;31mFileNotFoundError\u001b[0m: [Errno 2] No such file or directory: 'pandemonium_test_1.csv'"
     ]
    }
   ],
   "source": [
    "df=pd.read_csv('pandemonium_test_1.csv')\n",
    "\n",
    "for i in range(start,end):\n",
    "    df['Exited'][i]=0\n",
    "start-=50\n",
    "end-=50\n",
    "print(start,end)\n",
    "df_csv = df.to_csv(r'./shang_test_2.csv',columns=['RowNumber','Exited'],index=True,sep=',')"
   ]
  },
  {
   "cell_type": "code",
   "execution_count": null,
   "id": "romantic-election",
   "metadata": {},
   "outputs": [],
   "source": [
    "df=pd.read_csv('pandemonium_test_1.csv')\n",
    "\n",
    "for i in range(start,end):\n",
    "    df['Exited'][i]=0\n",
    "start-=50\n",
    "end-=50\n",
    "print(start,end)\n",
    "df_csv = df.to_csv(r'./shang_test_3.csv',columns=['RowNumber','Exited'],index=True,sep=',')"
   ]
  },
  {
   "cell_type": "code",
   "execution_count": null,
   "id": "dying-alert",
   "metadata": {},
   "outputs": [],
   "source": [
    "df=pd.read_csv('pandemonium_test_1.csv')\n",
    "\n",
    "for i in range(start,end):\n",
    "    df['Exited'][i]=0\n",
    "start-=50\n",
    "end-=50\n",
    "print(start,end)\n",
    "df_csv = df.to_csv(r'./shang_test_4.csv',columns=['RowNumber','Exited'],index=True,sep=',')"
   ]
  },
  {
   "cell_type": "code",
   "execution_count": null,
   "id": "selected-particle",
   "metadata": {},
   "outputs": [],
   "source": [
    "df=pd.read_csv('pandemonium_test_1.csv')\n",
    "\n",
    "for i in range(start,end):\n",
    "    df['Exited'][i]=0\n",
    "start-=50\n",
    "end-=50\n",
    "print(start,end)\n",
    "df_csv = df.to_csv(r'./shang_test_5.csv',columns=['RowNumber','Exited'],index=True,sep=',')"
   ]
  },
  {
   "cell_type": "code",
   "execution_count": null,
   "id": "consecutive-vancouver",
   "metadata": {},
   "outputs": [],
   "source": [
    "df=pd.read_csv('pandemonium_test_1.csv')\n",
    "\n",
    "for i in range(start,end):\n",
    "    df['Exited'][i]=0\n",
    "start-=50\n",
    "end-=50\n",
    "print(start,end)\n",
    "df_csv = df.to_csv(r'./shang_test_6.csv',columns=['RowNumber','Exited'],index=True,sep=',')"
   ]
  },
  {
   "cell_type": "code",
   "execution_count": null,
   "id": "honey-arrow",
   "metadata": {},
   "outputs": [],
   "source": [
    "df=pd.read_csv('pandemonium_test_1.csv')\n",
    "\n",
    "for i in range(start,end):\n",
    "    df['Exited'][i]=0\n",
    "start-=50\n",
    "end-=50\n",
    "print(start,end)\n",
    "df_csv = df.to_csv(r'./shang_test_7.csv',columns=['RowNumber','Exited'],index=True,sep=',')"
   ]
  },
  {
   "cell_type": "code",
   "execution_count": null,
   "id": "billion-object",
   "metadata": {},
   "outputs": [],
   "source": [
    "df=pd.read_csv('pandemonium_test_1.csv')\n",
    "\n",
    "for i in range(start,end):\n",
    "    df['Exited'][i]=0\n",
    "start-=50\n",
    "end-=50\n",
    "print(start,end)\n",
    "df_csv = df.to_csv(r'./shang_test_8.csv',columns=['RowNumber','Exited'],index=True,sep=',')"
   ]
  },
  {
   "cell_type": "code",
   "execution_count": null,
   "id": "silver-motor",
   "metadata": {},
   "outputs": [],
   "source": [
    "df=pd.read_csv('pandemonium_test_1.csv')\n",
    "\n",
    "for i in range(start,end):\n",
    "    df['Exited'][i]=0\n",
    "start-=50\n",
    "end-=50\n",
    "print(start,end)\n",
    "df_csv = df.to_csv(r'./shang_test_9.csv',columns=['RowNumber','Exited'],index=True,sep=',')"
   ]
  },
  {
   "cell_type": "code",
   "execution_count": null,
   "id": "related-boxing",
   "metadata": {},
   "outputs": [],
   "source": [
    "df=pd.read_csv('pandemonium_test_1.csv')\n",
    "\n",
    "for i in range(start,end):\n",
    "    df['Exited'][i]=0\n",
    "start-=50\n",
    "end-=50\n",
    "print(start,end)\n",
    "df_csv = df.to_csv(r'./shang_test_10.csv',columns=['RowNumber','Exited'],index=True,sep=',')"
   ]
  },
  {
   "cell_type": "code",
   "execution_count": null,
   "id": "human-diana",
   "metadata": {},
   "outputs": [],
   "source": [
    "df=pd.read_csv('pandemonium_test_1.csv')\n",
    "\n",
    "for i in range(start,end):\n",
    "    df['Exited'][i]=0\n",
    "start-=50\n",
    "end-=50\n",
    "print(start,end)\n",
    "df_csv = df.to_csv(r'./shang_test_11.csv',columns=['RowNumber','Exited'],index=True,sep=',')"
   ]
  },
  {
   "cell_type": "code",
   "execution_count": null,
   "id": "assumed-carbon",
   "metadata": {},
   "outputs": [],
   "source": [
    "df=pd.read_csv('pandemonium_test_1.csv')\n",
    "\n",
    "for i in range(start,end):\n",
    "    df['Exited'][i]=0\n",
    "start-=50\n",
    "end-=50\n",
    "print(start,end)\n",
    "df_csv = df.to_csv(r'./shang_test_12.csv',columns=['RowNumber','Exited'],index=True,sep=',')"
   ]
  },
  {
   "cell_type": "code",
   "execution_count": null,
   "id": "medieval-prior",
   "metadata": {},
   "outputs": [],
   "source": [
    "df=pd.read_csv('pandemonium_test_1.csv')\n",
    "\n",
    "for i in range(start,end):\n",
    "    df['Exited'][i]=0\n",
    "start-=50\n",
    "end-=50\n",
    "print(start,end)\n",
    "df_csv = df.to_csv(r'./shang_test_13.csv',columns=['RowNumber','Exited'],index=True,sep=',')"
   ]
  },
  {
   "cell_type": "code",
   "execution_count": null,
   "id": "legal-somewhere",
   "metadata": {},
   "outputs": [],
   "source": [
    "df=pd.read_csv('pandemonium_test_1.csv')\n",
    "\n",
    "for i in range(start,end):\n",
    "    df['Exited'][i]=0\n",
    "start-=50\n",
    "end-=50\n",
    "print(start,end)\n",
    "df_csv = df.to_csv(r'./shang_test_14.csv',columns=['RowNumber','Exited'],index=True,sep=',')"
   ]
  },
  {
   "cell_type": "code",
   "execution_count": null,
   "id": "republican-congress",
   "metadata": {},
   "outputs": [],
   "source": [
    "df=pd.read_csv('pandemonium_test_1.csv')\n",
    "\n",
    "for i in range(start,end):\n",
    "    df['Exited'][i]=0\n",
    "start-=50\n",
    "end-=50\n",
    "print(start,end)\n",
    "df_csv = df.to_csv(r'./shang_test_15.csv',columns=['RowNumber','Exited'],index=True,sep=',')"
   ]
  },
  {
   "cell_type": "code",
   "execution_count": null,
   "id": "alive-marriage",
   "metadata": {},
   "outputs": [],
   "source": [
    "df=pd.read_csv('pandemonium_test_1.csv')\n",
    "\n",
    "for i in range(start,end):\n",
    "    df['Exited'][i]=0\n",
    "start-=50\n",
    "end-=50\n",
    "print(start,end)\n",
    "df_csv = df.to_csv(r'./shang_test_16.csv',columns=['RowNumber','Exited'],index=True,sep=',')"
   ]
  },
  {
   "cell_type": "code",
   "execution_count": null,
   "id": "direct-nevada",
   "metadata": {},
   "outputs": [],
   "source": [
    "df=pd.read_csv('pandemonium_test_1.csv')\n",
    "\n",
    "for i in range(start,end):\n",
    "    df['Exited'][i]=0\n",
    "start-=50\n",
    "end-=50\n",
    "print(start,end)\n",
    "df_csv = df.to_csv(r'./shang_test_17.csv',columns=['RowNumber','Exited'],index=True,sep=',')"
   ]
  },
  {
   "cell_type": "code",
   "execution_count": null,
   "id": "structured-blackberry",
   "metadata": {},
   "outputs": [],
   "source": [
    "df=pd.read_csv('pandemonium_test_1.csv')\n",
    "\n",
    "for i in range(start,end):\n",
    "    df['Exited'][i]=0\n",
    "start-=50\n",
    "end-=50\n",
    "print(start,end)\n",
    "df_csv = df.to_csv(r'./shang_test_18.csv',columns=['RowNumber','Exited'],index=True,sep=',')"
   ]
  },
  {
   "cell_type": "code",
   "execution_count": null,
   "id": "chief-modeling",
   "metadata": {},
   "outputs": [],
   "source": [
    "df=pd.read_csv('pandemonium_test_1.csv')\n",
    "\n",
    "for i in range(start,end):\n",
    "    df['Exited'][i]=0\n",
    "start-=50\n",
    "end-=50\n",
    "print(start,end)\n",
    "df_csv = df.to_csv(r'./shang_test_19.csv',columns=['RowNumber','Exited'],index=True,sep=',')"
   ]
  },
  {
   "cell_type": "code",
   "execution_count": null,
   "id": "bulgarian-peripheral",
   "metadata": {},
   "outputs": [],
   "source": [
    "df=pd.read_csv('pandemonium_test_1.csv')\n",
    "\n",
    "for i in range(start,end):\n",
    "    df['Exited'][i]=0\n",
    "start-=50\n",
    "end-=50\n",
    "print(start,end)\n",
    "df_csv = df.to_csv(r'./shang_test_20.csv',columns=['RowNumber','Exited'],index=True,sep=',')"
   ]
  },
  {
   "cell_type": "code",
   "execution_count": null,
   "id": "discrete-midwest",
   "metadata": {},
   "outputs": [],
   "source": [
    "df=pd.read_csv('pandemonium_test_1.csv')\n",
    "\n",
    "for i in range(start,end):\n",
    "    df['Exited'][i]=0\n",
    "start-=50\n",
    "end-=50\n",
    "print(start,end)\n",
    "df_csv = df.to_csv(r'./shang_test_21.csv',columns=['RowNumber','Exited'],index=True,sep=',')"
   ]
  },
  {
   "cell_type": "code",
   "execution_count": null,
   "id": "involved-pilot",
   "metadata": {},
   "outputs": [],
   "source": [
    "df=pd.read_csv('pandemonium_test_1.csv')\n",
    "\n",
    "for i in range(start,end):\n",
    "    df['Exited'][i]=0\n",
    "start-=50\n",
    "end-=50\n",
    "print(start,end)\n",
    "df_csv = df.to_csv(r'./shang_test_22.csv',columns=['RowNumber','Exited'],index=True,sep=',')"
   ]
  },
  {
   "cell_type": "code",
   "execution_count": null,
   "id": "gross-bumper",
   "metadata": {},
   "outputs": [],
   "source": [
    "df=pd.read_csv('pandemonium_test_1.csv')\n",
    "\n",
    "for i in range(start,end):\n",
    "    df['Exited'][i]=0\n",
    "start-=50\n",
    "end-=50\n",
    "print(start,end)\n",
    "df_csv = df.to_csv(r'./shang_test_23.csv',columns=['RowNumber','Exited'],index=True,sep=',')"
   ]
  },
  {
   "cell_type": "code",
   "execution_count": null,
   "id": "breeding-madison",
   "metadata": {},
   "outputs": [],
   "source": [
    "df=pd.read_csv('pandemonium_test_1.csv')\n",
    "\n",
    "for i in range(start,end):\n",
    "    df['Exited'][i]=0\n",
    "start-=50\n",
    "end-=50\n",
    "print(start,end)\n",
    "df_csv = df.to_csv(r'./shang_test_24.csv',columns=['RowNumber','Exited'],index=True,sep=',')"
   ]
  },
  {
   "cell_type": "code",
   "execution_count": null,
   "id": "governmental-conflict",
   "metadata": {},
   "outputs": [],
   "source": [
    "df=pd.read_csv('pandemonium_test_1.csv')\n",
    "\n",
    "for i in range(start,end):\n",
    "    df['Exited'][i]=0\n",
    "start-=50\n",
    "end-=50\n",
    "print(start,end)\n",
    "df_csv = df.to_csv(r'./shang_test_25.csv',columns=['RowNumber','Exited'],index=True,sep=',')"
   ]
  },
  {
   "cell_type": "code",
   "execution_count": null,
   "id": "alternate-gasoline",
   "metadata": {},
   "outputs": [],
   "source": [
    "df=pd.read_csv('pandemonium_test_1.csv')\n",
    "\n",
    "for i in range(start,end):\n",
    "    df['Exited'][i]=0\n",
    "start-=50\n",
    "end-=50\n",
    "print(start,end)\n",
    "df_csv = df.to_csv(r'./shang_test_26.csv',columns=['RowNumber','Exited'],index=True,sep=',')"
   ]
  },
  {
   "cell_type": "code",
   "execution_count": null,
   "id": "systematic-hospital",
   "metadata": {},
   "outputs": [],
   "source": [
    "df=pd.read_csv('pandemonium_test_1.csv')\n",
    "\n",
    "for i in range(start,end):\n",
    "    df['Exited'][i]=0\n",
    "start-=50\n",
    "end-=50\n",
    "print(start,end)\n",
    "df_csv = df.to_csv(r'./shang_test_27.csv',columns=['RowNumber','Exited'],index=True,sep=',')"
   ]
  },
  {
   "cell_type": "code",
   "execution_count": null,
   "id": "vanilla-cliff",
   "metadata": {},
   "outputs": [],
   "source": [
    "df=pd.read_csv('pandemonium_test_1.csv')\n",
    "\n",
    "for i in range(start,end):\n",
    "    df['Exited'][i]=0\n",
    "start-=50\n",
    "end-=50\n",
    "print(start,end)\n",
    "df_csv = df.to_csv(r'./shang_test_28.csv',columns=['RowNumber','Exited'],index=True,sep=',')"
   ]
  },
  {
   "cell_type": "code",
   "execution_count": null,
   "id": "decreased-status",
   "metadata": {},
   "outputs": [],
   "source": [
    "df=pd.read_csv('pandemonium_test_1.csv')\n",
    "\n",
    "for i in range(start,end):\n",
    "    df['Exited'][i]=0\n",
    "start-=50\n",
    "end-=50\n",
    "print(start,end)\n",
    "df_csv = df.to_csv(r'./shang_test_29.csv',columns=['RowNumber','Exited'],index=True,sep=',')"
   ]
  },
  {
   "cell_type": "code",
   "execution_count": null,
   "id": "annual-acoustic",
   "metadata": {},
   "outputs": [],
   "source": [
    "df=pd.read_csv('pandemonium_test_1.csv')\n",
    "\n",
    "for i in range(start,end):\n",
    "    df['Exited'][i]=0\n",
    "start-=50\n",
    "end-=50\n",
    "print(start,end)\n",
    "df_csv = df.to_csv(r'./shang_test_30.csv',columns=['RowNumber','Exited'],index=True,sep=',')"
   ]
  }
 ],
 "metadata": {
  "kernelspec": {
   "display_name": "Python 3",
   "language": "python",
   "name": "python3"
  },
  "language_info": {
   "codemirror_mode": {
    "name": "ipython",
    "version": 3
   },
   "file_extension": ".py",
   "mimetype": "text/x-python",
   "name": "python",
   "nbconvert_exporter": "python",
   "pygments_lexer": "ipython3",
   "version": "3.9.1"
  }
 },
 "nbformat": 4,
 "nbformat_minor": 5
}
