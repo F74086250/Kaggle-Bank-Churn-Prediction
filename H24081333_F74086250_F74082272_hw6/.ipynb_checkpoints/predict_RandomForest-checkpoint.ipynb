{
 "cells": [
  {
   "cell_type": "code",
   "execution_count": 1,
   "id": "f9c16e93",
   "metadata": {},
   "outputs": [],
   "source": [
    "import pandas as pd\n",
    "import numpy as np\n",
    "from sklearn.model_selection import train_test_split\n",
    "from sklearn.preprocessing import MinMaxScaler "
   ]
  },
  {
   "cell_type": "code",
   "execution_count": 2,
   "id": "725f5a02",
   "metadata": {},
   "outputs": [
    {
     "name": "stderr",
     "output_type": "stream",
     "text": [
      "<ipython-input-2-1dd51dd4f81d>:26: DataConversionWarning: A column-vector y was passed when a 1d array was expected. Please change the shape of y to (n_samples,), for example using ravel().\n",
      "  classifier.fit(X_train, y_train)\n",
      "<ipython-input-2-1dd51dd4f81d>:32: DataConversionWarning: A column-vector y was passed when a 1d array was expected. Please change the shape of y to (n_samples,), for example using ravel().\n",
      "  classifier.fit(X_train_stdnorm, y_train)\n"
     ]
    },
    {
     "data": {
      "text/plain": [
       "(0.870625, 0.5460122699386503, 0.6323268206039075, 0.6692904541566324)"
      ]
     },
     "execution_count": 2,
     "metadata": {},
     "output_type": "execute_result"
    }
   ],
   "source": [
    "df_train=pd.read_csv('train.csv')\n",
    "df_test=pd.read_csv('test.csv')\n",
    "#資料預處理，刪掉不影響預測結果的特徵\n",
    "df_train=df_train.drop(columns=['RowNumber','CustomerId','Surname'])\n",
    "#將類別型資料編碼\n",
    "df_train['Geography'] = df_train['Geography'].replace(['France', 'Germany', 'Spain'], [0, 1, 2])\n",
    "df_train['Gender'] = df_train['Gender'].replace(['Male', 'Female'], [0, 1])\n",
    "\n",
    "#資料預處理，刪掉不影響預測結果的特徵\n",
    "df_test=df_test.drop(columns=['RowNumber','CustomerId','Surname'])\n",
    "#將類別型資料編碼\n",
    "df_test['Geography'] = df_test['Geography'].replace(['France', 'Germany', 'Spain'], [0, 1, 2])\n",
    "df_test['Gender'] = df_test['Gender'].replace(['Male', 'Female'], [0, 1])\n",
    "\n",
    "#將訓練集切分為4:1\n",
    "X_train=df_train.iloc[:,:df_train.shape[1]-1]\n",
    "y_train=df_train.loc[:,['Exited']]\n",
    "X_train, X_test, y_train, y_test = train_test_split(X_train, y_train, test_size = 0.2, random_state = 33, stratify=y_train)\n",
    "\n",
    "#train資料算出accu\n",
    "from sklearn.metrics import accuracy_score\n",
    "from sklearn.preprocessing import StandardScaler\n",
    "from sklearn.ensemble import RandomForestClassifier\n",
    "\n",
    "classifier = RandomForestClassifier(n_estimators=122, oob_score=True, max_features=10)\n",
    "classifier.fit(X_train, y_train)\n",
    "\n",
    "scaler = StandardScaler()\n",
    "scaler.fit(X_train)\n",
    "\n",
    "X_train_stdnorm = scaler.transform(X_train)\n",
    "classifier.fit(X_train_stdnorm, y_train)\n",
    "\n",
    "y_predict = classifier.predict(X_test)\n",
    "X_test_stdnorm = scaler.transform(X_test)\n",
    "y_predict = classifier.predict(X_test_stdnorm)\n",
    "\n",
    "acc = accuracy_score(y_predict, y_test)\n",
    "acc\n",
    "from sklearn.metrics import accuracy_score,precision_score,f1_score\n",
    "acc = accuracy_score(y_predict, y_test)\n",
    "prec=precision_score(y_predict, y_test)\n",
    "f1score=f1_score(y_predict, y_test)\n",
    "acc,prec,f1score,acc*0.3+prec*0.4+f1score*0.3"
   ]
  },
  {
   "cell_type": "code",
   "execution_count": 3,
   "id": "ff2a32d7",
   "metadata": {},
   "outputs": [
    {
     "name": "stdout",
     "output_type": "stream",
     "text": [
      "      CreditScore  Geography  Gender  Age  Tenure    Balance  NumOfProducts  \\\n",
      "0             720          2       0   38       5  114051.97              2   \n",
      "1             682          0       1   54       4   62397.41              1   \n",
      "2             672          0       1   31       5  119903.67              1   \n",
      "3             592          2       1   40       4  104257.86              1   \n",
      "4             753          2       0   42       5  120387.73              1   \n",
      "...           ...        ...     ...  ...     ...        ...            ...   \n",
      "7995          568          0       1   35       6  121079.60              2   \n",
      "7996          602          1       1   45       7  145846.07              1   \n",
      "7997          679          2       1   43       5  132810.01              1   \n",
      "7998          715          0       0   38       4  118729.45              1   \n",
      "7999          600          0       1   42       5   62397.41              1   \n",
      "\n",
      "      HasCrCard  IsActiveMember  EstimatedSalary  \n",
      "0             0               1        107577.29  \n",
      "1             1               0        113088.60  \n",
      "2             1               1        132925.17  \n",
      "3             1               0        110857.33  \n",
      "4             0               1        126378.57  \n",
      "...         ...             ...              ...  \n",
      "7995          1               1        124890.50  \n",
      "7996          1               0         99276.02  \n",
      "7997          1               0        130780.85  \n",
      "7998          0               0         95484.52  \n",
      "7999          0               0         66315.00  \n",
      "\n",
      "[8000 rows x 10 columns]\n",
      "      CreditScore  Geography  Gender  Age  Tenure    Balance  NumOfProducts  \\\n",
      "0             726          0       1   39       3   62397.41              1   \n",
      "1             661          0       0   42       3  130339.64              1   \n",
      "2             545          0       0   34       6   62397.41              2   \n",
      "3             731          2       1   42       3   86717.08              1   \n",
      "4             533          0       1   50       6   62397.41              1   \n",
      "...           ...        ...     ...  ...     ...        ...            ...   \n",
      "1995          628          0       0   35       6   62397.41              2   \n",
      "1996          639          1       0   41       5   98154.30              2   \n",
      "1997          548          0       1   46       3  119078.34              2   \n",
      "1998          602          2       1   44       7   62397.41              2   \n",
      "1999          615          1       1   32       5  105570.37              1   \n",
      "\n",
      "      HasCrCard  IsActiveMember  EstimatedSalary  \n",
      "0             0               0        106139.31  \n",
      "1             1               0        125776.38  \n",
      "2             1               1         78372.28  \n",
      "3             1               0        136026.27  \n",
      "4             1               1        135205.58  \n",
      "...         ...             ...              ...  \n",
      "1995          1               1         96201.09  \n",
      "1996          1               0        109531.64  \n",
      "1997          1               1        116725.67  \n",
      "1998          1               1        128135.95  \n",
      "1999          1               0        104140.30  \n",
      "\n",
      "[2000 rows x 10 columns]\n",
      "      Exited\n",
      "0          0\n",
      "1          1\n",
      "2          0\n",
      "3          0\n",
      "4          0\n",
      "...      ...\n",
      "7995       1\n",
      "7996       0\n",
      "7997       1\n",
      "7998       0\n",
      "7999       0\n",
      "\n",
      "[8000 rows x 1 columns]\n"
     ]
    },
    {
     "name": "stderr",
     "output_type": "stream",
     "text": [
      "<ipython-input-3-814369f249cd>:31: DataConversionWarning: A column-vector y was passed when a 1d array was expected. Please change the shape of y to (n_samples,), for example using ravel().\n",
      "  classifier.fit(X_train, y_train)\n",
      "<ipython-input-3-814369f249cd>:37: DataConversionWarning: A column-vector y was passed when a 1d array was expected. Please change the shape of y to (n_samples,), for example using ravel().\n",
      "  classifier.fit(X_train_stdnorm, y_train)\n"
     ]
    },
    {
     "data": {
      "text/plain": [
       "array([0, 0, 0, ..., 0, 0, 0], dtype=int64)"
      ]
     },
     "execution_count": 3,
     "metadata": {},
     "output_type": "execute_result"
    }
   ],
   "source": [
    "######### 測試用\n",
    "########訓練用\n",
    "\n",
    "df_train=pd.read_csv('train.csv')\n",
    "df_test=pd.read_csv('test.csv')\n",
    "#資料預處理，刪掉不影響預測結果的特徵\n",
    "df_train=df_train.drop(columns=['RowNumber','CustomerId','Surname'])\n",
    "#將類別型資料編碼\n",
    "df_train['Geography'] = df_train['Geography'].replace(['France', 'Germany', 'Spain'], [0, 1, 2])\n",
    "df_train['Gender'] = df_train['Gender'].replace(['Male', 'Female'], [0, 1])\n",
    "\n",
    "#資料預處理，刪掉不影響預測結果的特徵\n",
    "df_rownumber=df_test\n",
    "df_test=df_test.drop(columns=['RowNumber','CustomerId','Surname'])\n",
    "#將類別型資料編碼\n",
    "df_test['Geography'] = df_test['Geography'].replace(['France', 'Germany', 'Spain'], [0, 1, 2])\n",
    "df_test['Gender'] = df_test['Gender'].replace(['Male', 'Female'], [0, 1])\n",
    "\n",
    "#將訓練集切分為4:1\n",
    "X_train=df_train.iloc[:,:df_train.shape[1]-1]\n",
    "y_train=df_train.loc[:,['Exited']]\n",
    "X_test=df_test\n",
    "#X_train, X_test, y_train, y_test = train_test_split(X_train, y_train, test_size = 0.2, random_state = 10, stratify=y_train)\n",
    "\n",
    "print(X_train)\n",
    "print(X_test)\n",
    "print(y_train)\n",
    "\n",
    "#train資料算出accu\n",
    "classifier = RandomForestClassifier(n_estimators=122, oob_score=True, max_features=10)\n",
    "classifier.fit(X_train, y_train)\n",
    "\n",
    "scaler = StandardScaler()\n",
    "scaler.fit(X_train)\n",
    "\n",
    "X_train_stdnorm = scaler.transform(X_train)\n",
    "classifier.fit(X_train_stdnorm, y_train)\n",
    "\n",
    "y_predict = classifier.predict(X_test)\n",
    "X_test_stdnorm = scaler.transform(X_test)\n",
    "y_predict = classifier.predict(X_test_stdnorm)\n",
    "\n",
    "y_predict"
   ]
  },
  {
   "cell_type": "code",
   "execution_count": 4,
   "id": "578059aa",
   "metadata": {},
   "outputs": [],
   "source": [
    "df = pd.DataFrame({'RowNumber': df_rownumber['RowNumber'], 'Exited': list(y_predict)})\n",
    "RandomForest_csv = df.to_csv(r'./predict_RandomForest_godfather.csv',columns=['RowNumber','Exited'],index=True,sep=',')"
   ]
  },
  {
   "cell_type": "code",
   "execution_count": null,
   "id": "0f75b070",
   "metadata": {},
   "outputs": [],
   "source": []
  }
 ],
 "metadata": {
  "kernelspec": {
   "display_name": "Python 3",
   "language": "python",
   "name": "python3"
  },
  "language_info": {
   "codemirror_mode": {
    "name": "ipython",
    "version": 3
   },
   "file_extension": ".py",
   "mimetype": "text/x-python",
   "name": "python",
   "nbconvert_exporter": "python",
   "pygments_lexer": "ipython3",
   "version": "3.9.1"
  }
 },
 "nbformat": 4,
 "nbformat_minor": 5
}
