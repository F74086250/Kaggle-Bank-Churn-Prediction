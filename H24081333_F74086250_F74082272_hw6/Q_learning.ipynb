{
 "cells": [
  {
   "cell_type": "code",
   "execution_count": 1,
   "id": "detailed-canvas",
   "metadata": {},
   "outputs": [
    {
     "data": {
      "text/plain": [
       "(      CreditScore  Geography  Gender  Age  Tenure    Balance  NumOfProducts  \\\n",
       " 0             720          2       0   38       5  114051.97              2   \n",
       " 1             682          0       1   54       4   62397.41              1   \n",
       " 2             672          0       1   31       5  119903.67              1   \n",
       " 3             592          2       1   40       4  104257.86              1   \n",
       " 4             753          2       0   42       5  120387.73              1   \n",
       " ...           ...        ...     ...  ...     ...        ...            ...   \n",
       " 1995          628          0       0   35       6   62397.41              2   \n",
       " 1996          639          1       0   41       5   98154.30              2   \n",
       " 1997          548          0       1   46       3  119078.34              2   \n",
       " 1998          602          2       1   44       7   62397.41              2   \n",
       " 1999          615          1       1   32       5  105570.37              1   \n",
       " \n",
       "       HasCrCard  IsActiveMember  EstimatedSalary  \n",
       " 0             0               1        107577.29  \n",
       " 1             1               0        113088.60  \n",
       " 2             1               1        132925.17  \n",
       " 3             1               0        110857.33  \n",
       " 4             0               1        126378.57  \n",
       " ...         ...             ...              ...  \n",
       " 1995          1               1         96201.09  \n",
       " 1996          1               0        109531.64  \n",
       " 1997          1               1        116725.67  \n",
       " 1998          1               1        128135.95  \n",
       " 1999          1               0        104140.30  \n",
       " \n",
       " [10000 rows x 10 columns],\n",
       "       Exited\n",
       " 0          0\n",
       " 1          1\n",
       " 2          0\n",
       " 3          0\n",
       " 4          0\n",
       " ...      ...\n",
       " 1995       0\n",
       " 1996       0\n",
       " 1997       0\n",
       " 1998       0\n",
       " 1999       0\n",
       " \n",
       " [10000 rows x 1 columns])"
      ]
     },
     "execution_count": 1,
     "metadata": {},
     "output_type": "execute_result"
    }
   ],
   "source": [
    "import pandas as pd\n",
    "import numpy as np\n",
    "from sklearn.model_selection import train_test_split\n",
    "from sklearn.preprocessing import MinMaxScaler \n",
    "from sklearn.metrics import accuracy_score\n",
    "from sklearn.preprocessing import StandardScaler\n",
    "from sklearn import svm\n",
    "from sklearn.metrics import accuracy_score,precision_score,f1_score\n",
    "######### 測試用\n",
    "########訓練用\n",
    "\n",
    "df_train=pd.read_csv('train.csv')\n",
    "df_test=pd.read_csv('test.csv')\n",
    "#資料預處理，刪掉不影響預測結果的特徵\n",
    "df_train=df_train.drop(columns=['RowNumber','CustomerId','Surname'])\n",
    "#將類別型資料編碼\n",
    "df_train['Geography'] = df_train['Geography'].replace(['France', 'Germany', 'Spain'], [0, 1, 2])\n",
    "df_train['Gender'] = df_train['Gender'].replace(['Male', 'Female'], [0, 1])\n",
    "\n",
    "#資料預處理，刪掉不影響預測結果的特徵\n",
    "df_rownumber=df_test\n",
    "df_test=df_test.drop(columns=['RowNumber','CustomerId','Surname'])\n",
    "#將類別型資料編碼\n",
    "df_test['Geography'] = df_test['Geography'].replace(['France', 'Germany', 'Spain'], [0, 1, 2])\n",
    "df_test['Gender'] = df_test['Gender'].replace(['Male', 'Female'], [0, 1])\n",
    "df_ghost_predict=pd.read_csv('shang_test_8_remix_22.csv')\n",
    "exit_list=df_ghost_predict['Exited'].tolist()\n",
    "df_exit=pd.DataFrame(exit_list,columns=['Exited'])\n",
    "#將訓練集切分為4:1\n",
    "X_train=df_train.iloc[:,:df_train.shape[1]-1]\n",
    "y_train=df_train.loc[:,['Exited']]\n",
    "X_test=df_test\n",
    "\n",
    "#X_train, X_test, y_train, y_test = train_test_split(X_train, y_train, test_size = 0.2, random_state = 10, stratify=y_train)\n",
    "df_test1=pd.read_csv('test.csv')\n",
    "df_test1=df_test1.drop(columns=['RowNumber','CustomerId','Surname'])\n",
    "#將類別型資料編碼\n",
    "df_test1['Geography'] = df_test1['Geography'].replace(['France', 'Germany', 'Spain'], [0, 1, 2])\n",
    "df_test1['Gender'] = df_test1['Gender'].replace(['Male', 'Female'], [0, 1])\n",
    "X_train=pd.concat([X_train,df_test1])\n",
    "y_train=pd.concat([y_train,df_exit])\n",
    "X_train,y_train\n",
    "\n",
    "\n",
    "\n"
   ]
  },
  {
   "cell_type": "code",
   "execution_count": 3,
   "id": "blind-young",
   "metadata": {},
   "outputs": [
    {
     "name": "stderr",
     "output_type": "stream",
     "text": [
      "c:\\users\\f74086250\\appdata\\local\\programs\\python\\python39\\lib\\site-packages\\sklearn\\utils\\validation.py:63: DataConversionWarning: A column-vector y was passed when a 1d array was expected. Please change the shape of y to (n_samples, ), for example using ravel().\n",
      "  return f(*args, **kwargs)\n",
      "c:\\users\\f74086250\\appdata\\local\\programs\\python\\python39\\lib\\site-packages\\sklearn\\utils\\validation.py:63: DataConversionWarning: A column-vector y was passed when a 1d array was expected. Please change the shape of y to (n_samples, ), for example using ravel().\n",
      "  return f(*args, **kwargs)\n"
     ]
    },
    {
     "data": {
      "text/plain": [
       "array([0, 0, 0, ..., 0, 0, 0], dtype=int64)"
      ]
     },
     "execution_count": 3,
     "metadata": {},
     "output_type": "execute_result"
    }
   ],
   "source": [
    "from sklearn.metrics import accuracy_score\n",
    "from sklearn.preprocessing import StandardScaler\n",
    "from sklearn import svm\n",
    "\n",
    "\n",
    "#train資料算出accu\n",
    "classifier  =svm.SVC(kernel='rbf', gamma=0.233)\n",
    "classifier.fit(X_train, y_train)\n",
    "\n",
    "scaler = StandardScaler()\n",
    "scaler.fit(X_train)\n",
    "\n",
    "X_train_stdnorm = scaler.transform(X_train)\n",
    "classifier.fit(X_train_stdnorm, y_train)\n",
    "\n",
    "y_predict = classifier.predict(X_test)\n",
    "X_test_stdnorm = scaler.transform(X_test)\n",
    "y_predict = classifier.predict(X_test_stdnorm)\n",
    "\n",
    "y_predict"
   ]
  },
  {
   "cell_type": "code",
   "execution_count": 5,
   "id": "weighted-invalid",
   "metadata": {},
   "outputs": [],
   "source": [
    "df = pd.DataFrame({'RowNumber': df_rownumber['RowNumber'], 'Exited': list(y_predict)})\n",
    "SVM_csv = df.to_csv(r'./predict_SVM_godfather.csv',columns=['RowNumber','Exited'],index=True,sep=',')"
   ]
  },
  {
   "cell_type": "code",
   "execution_count": null,
   "id": "nervous-lingerie",
   "metadata": {},
   "outputs": [],
   "source": []
  }
 ],
 "metadata": {
  "kernelspec": {
   "display_name": "Python 3",
   "language": "python",
   "name": "python3"
  },
  "language_info": {
   "codemirror_mode": {
    "name": "ipython",
    "version": 3
   },
   "file_extension": ".py",
   "mimetype": "text/x-python",
   "name": "python",
   "nbconvert_exporter": "python",
   "pygments_lexer": "ipython3",
   "version": "3.9.1"
  }
 },
 "nbformat": 4,
 "nbformat_minor": 5
}
